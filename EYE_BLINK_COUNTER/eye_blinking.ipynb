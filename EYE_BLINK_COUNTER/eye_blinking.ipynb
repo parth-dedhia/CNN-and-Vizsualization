{
 "cells": [
  {
   "cell_type": "code",
   "execution_count": 1,
   "metadata": {},
   "outputs": [
    {
     "name": "stdout",
     "output_type": "stream",
     "text": [
      "You need to blink\n"
     ]
    }
   ],
   "source": [
    "import numpy as np\n",
    "import cv2 as cv\n",
    "from matplotlib import pyplot as plt\n",
    "import time\n",
    "import sys\n",
    "import os\n",
    "\n",
    "cap = cv.VideoCapture(0)\n",
    "font = cv.FONT_HERSHEY_SIMPLEX\n",
    "face_cascade = cv.CascadeClassifier('haarcascade_frontalface_default.xml')\n",
    "eye_cascade = cv.CascadeClassifier('haarcascade_eye.xml')\n",
    "blink = 0\n",
    "eyes_open = 0\n",
    "text = \"Blink : \" + str(blink)\n",
    "now = time.time()\n",
    "future = now + 10\n",
    "while True :\n",
    "    _ , img = cap.read()\n",
    "    temp = cv.cvtColor(img , cv.COLOR_BGR2YUV)\n",
    "    img = cv.cvtColor(temp , cv.COLOR_YUV2BGR)\n",
    "    gray = cv.cvtColor(img , cv.COLOR_BGR2GRAY)\n",
    "    faces = face_cascade.detectMultiScale(gray , 1.3 , 5)\n",
    "    face_detected = 0\n",
    "    for (x,y,w,h) in faces:\n",
    "        face_detected = 1\n",
    "        roi_gray = gray[y:y+h , x:x+w]\n",
    "        roi_color = img[y:y+h , x:x+w]\n",
    "        eyes_detected = 0\n",
    "        mouth_detected = 0\n",
    "        eyes = eye_cascade.detectMultiScale(roi_gray, 1.3 , 5)\n",
    "        for (ex,ey,ew,eh) in eyes:\n",
    "            eyes_detected = 1\n",
    "            eyes_open = 1\n",
    "            cv.rectangle(roi_color,(ex,ey),(ex+ew,ey+eh),(0,255,0),2)\n",
    "    if (face_detected == 1 and eyes_detected == 0 and eyes_open == 1):\n",
    "        eyes_open = 0\n",
    "        blink += 1\n",
    "        text = \"Blink : \" + str(blink)\n",
    "    if (time.time() > future):\n",
    "        if (blink < 10 and face_detected == 1):\n",
    "            print(\"You need to blink\")\n",
    "            blink = 0\n",
    "        else:\n",
    "            blink = 0\n",
    "        now = time.time()\n",
    "        future = now + 10\n",
    "        text = \"Blink : \" + str(blink)\n",
    "    cv.putText(img,text,(0,25),font , 1 , (0,0,0) ,2, cv.LINE_AA)\n",
    "    cv.imshow('Img',img)\n",
    "    k = cv.waitKey(5) & 0xFF\n",
    "    if k == 27:\n",
    "        break\n",
    "            \n",
    "cap.release()\n",
    "cv.destroyAllWindows()"
   ]
  },
  {
   "cell_type": "code",
   "execution_count": null,
   "metadata": {},
   "outputs": [],
   "source": []
  }
 ],
 "metadata": {
  "kernelspec": {
   "display_name": "Python 3",
   "language": "python",
   "name": "python3"
  },
  "language_info": {
   "codemirror_mode": {
    "name": "ipython",
    "version": 3
   },
   "file_extension": ".py",
   "mimetype": "text/x-python",
   "name": "python",
   "nbconvert_exporter": "python",
   "pygments_lexer": "ipython3",
   "version": "3.6.7"
  }
 },
 "nbformat": 4,
 "nbformat_minor": 2
}
